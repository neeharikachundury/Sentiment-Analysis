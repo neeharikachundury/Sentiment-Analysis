{
 "cells": [
  {
   "cell_type": "code",
   "execution_count": 1,
   "id": "41a5d457-a98e-4033-bba6-a6b27b1688bf",
   "metadata": {},
   "outputs": [
    {
     "name": "stdout",
     "output_type": "stream",
     "text": [
      "Requirement already satisfied: datasets in /home/neeharika/miniconda3/envs/nlp_class/lib/python3.7/site-packages (1.17.0)\n",
      "Requirement already satisfied: scikit-learn in /home/neeharika/miniconda3/envs/nlp_class/lib/python3.7/site-packages (1.0.2)\n",
      "Requirement already satisfied: matplotlib in /home/neeharika/miniconda3/envs/nlp_class/lib/python3.7/site-packages (3.5.1)\n",
      "Requirement already satisfied: xxhash in /home/neeharika/miniconda3/envs/nlp_class/lib/python3.7/site-packages (from datasets) (2.0.2)\n",
      "Requirement already satisfied: dill in /home/neeharika/miniconda3/envs/nlp_class/lib/python3.7/site-packages (from datasets) (0.3.4)\n",
      "Requirement already satisfied: huggingface-hub<1.0.0,>=0.1.0 in /home/neeharika/miniconda3/envs/nlp_class/lib/python3.7/site-packages (from datasets) (0.4.0)\n",
      "Requirement already satisfied: importlib-metadata in /home/neeharika/miniconda3/envs/nlp_class/lib/python3.7/site-packages (from datasets) (4.10.1)\n",
      "Requirement already satisfied: numpy>=1.17 in /home/neeharika/miniconda3/envs/nlp_class/lib/python3.7/site-packages (from datasets) (1.21.5)\n",
      "Requirement already satisfied: pandas in /home/neeharika/miniconda3/envs/nlp_class/lib/python3.7/site-packages (from datasets) (1.3.5)\n",
      "Requirement already satisfied: fsspec[http]>=2021.05.0 in /home/neeharika/miniconda3/envs/nlp_class/lib/python3.7/site-packages (from datasets) (2022.1.0)\n",
      "Requirement already satisfied: tqdm>=4.62.1 in /home/neeharika/miniconda3/envs/nlp_class/lib/python3.7/site-packages (from datasets) (4.62.3)\n",
      "Requirement already satisfied: requests>=2.19.0 in /home/neeharika/miniconda3/envs/nlp_class/lib/python3.7/site-packages (from datasets) (2.27.1)\n",
      "Requirement already satisfied: pyarrow!=4.0.0,>=3.0.0 in /home/neeharika/miniconda3/envs/nlp_class/lib/python3.7/site-packages (from datasets) (6.0.1)\n",
      "Requirement already satisfied: multiprocess in /home/neeharika/miniconda3/envs/nlp_class/lib/python3.7/site-packages (from datasets) (0.70.12.2)\n",
      "Requirement already satisfied: packaging in /home/neeharika/miniconda3/envs/nlp_class/lib/python3.7/site-packages (from datasets) (21.3)\n",
      "Requirement already satisfied: aiohttp in /home/neeharika/miniconda3/envs/nlp_class/lib/python3.7/site-packages (from datasets) (3.8.1)\n",
      "Requirement already satisfied: threadpoolctl>=2.0.0 in /home/neeharika/miniconda3/envs/nlp_class/lib/python3.7/site-packages (from scikit-learn) (3.0.0)\n",
      "Requirement already satisfied: scipy>=1.1.0 in /home/neeharika/miniconda3/envs/nlp_class/lib/python3.7/site-packages (from scikit-learn) (1.7.3)\n",
      "Requirement already satisfied: joblib>=0.11 in /home/neeharika/miniconda3/envs/nlp_class/lib/python3.7/site-packages (from scikit-learn) (1.1.0)\n",
      "Requirement already satisfied: python-dateutil>=2.7 in /home/neeharika/miniconda3/envs/nlp_class/lib/python3.7/site-packages (from matplotlib) (2.8.2)\n",
      "Requirement already satisfied: pillow>=6.2.0 in /home/neeharika/miniconda3/envs/nlp_class/lib/python3.7/site-packages (from matplotlib) (9.0.0)\n",
      "Requirement already satisfied: fonttools>=4.22.0 in /home/neeharika/miniconda3/envs/nlp_class/lib/python3.7/site-packages (from matplotlib) (4.29.0)\n",
      "Requirement already satisfied: kiwisolver>=1.0.1 in /home/neeharika/miniconda3/envs/nlp_class/lib/python3.7/site-packages (from matplotlib) (1.3.2)\n",
      "Requirement already satisfied: pyparsing>=2.2.1 in /home/neeharika/miniconda3/envs/nlp_class/lib/python3.7/site-packages (from matplotlib) (3.0.6)\n",
      "Requirement already satisfied: cycler>=0.10 in /home/neeharika/miniconda3/envs/nlp_class/lib/python3.7/site-packages (from matplotlib) (0.11.0)\n",
      "Requirement already satisfied: filelock in /home/neeharika/miniconda3/envs/nlp_class/lib/python3.7/site-packages (from huggingface-hub<1.0.0,>=0.1.0->datasets) (3.4.2)\n",
      "Requirement already satisfied: pyyaml in /home/neeharika/miniconda3/envs/nlp_class/lib/python3.7/site-packages (from huggingface-hub<1.0.0,>=0.1.0->datasets) (6.0)\n",
      "Requirement already satisfied: typing-extensions>=3.7.4.3 in /home/neeharika/miniconda3/envs/nlp_class/lib/python3.7/site-packages (from huggingface-hub<1.0.0,>=0.1.0->datasets) (4.0.1)\n",
      "Requirement already satisfied: six>=1.5 in /home/neeharika/miniconda3/envs/nlp_class/lib/python3.7/site-packages (from python-dateutil>=2.7->matplotlib) (1.16.0)\n",
      "Requirement already satisfied: certifi>=2017.4.17 in /home/neeharika/miniconda3/envs/nlp_class/lib/python3.7/site-packages (from requests>=2.19.0->datasets) (2021.10.8)\n",
      "Requirement already satisfied: idna<4,>=2.5 in /home/neeharika/miniconda3/envs/nlp_class/lib/python3.7/site-packages (from requests>=2.19.0->datasets) (3.3)\n",
      "Requirement already satisfied: charset-normalizer~=2.0.0 in /home/neeharika/miniconda3/envs/nlp_class/lib/python3.7/site-packages (from requests>=2.19.0->datasets) (2.0.10)\n",
      "Requirement already satisfied: urllib3<1.27,>=1.21.1 in /home/neeharika/miniconda3/envs/nlp_class/lib/python3.7/site-packages (from requests>=2.19.0->datasets) (1.26.8)\n",
      "Requirement already satisfied: asynctest==0.13.0 in /home/neeharika/miniconda3/envs/nlp_class/lib/python3.7/site-packages (from aiohttp->datasets) (0.13.0)\n",
      "Requirement already satisfied: yarl<2.0,>=1.0 in /home/neeharika/miniconda3/envs/nlp_class/lib/python3.7/site-packages (from aiohttp->datasets) (1.7.2)\n",
      "Requirement already satisfied: multidict<7.0,>=4.5 in /home/neeharika/miniconda3/envs/nlp_class/lib/python3.7/site-packages (from aiohttp->datasets) (5.2.0)\n",
      "Requirement already satisfied: aiosignal>=1.1.2 in /home/neeharika/miniconda3/envs/nlp_class/lib/python3.7/site-packages (from aiohttp->datasets) (1.2.0)\n",
      "Requirement already satisfied: attrs>=17.3.0 in /home/neeharika/miniconda3/envs/nlp_class/lib/python3.7/site-packages (from aiohttp->datasets) (21.4.0)\n",
      "Requirement already satisfied: frozenlist>=1.1.1 in /home/neeharika/miniconda3/envs/nlp_class/lib/python3.7/site-packages (from aiohttp->datasets) (1.3.0)\n",
      "Requirement already satisfied: async-timeout<5.0,>=4.0.0a3 in /home/neeharika/miniconda3/envs/nlp_class/lib/python3.7/site-packages (from aiohttp->datasets) (4.0.2)\n",
      "Requirement already satisfied: zipp>=0.5 in /home/neeharika/miniconda3/envs/nlp_class/lib/python3.7/site-packages (from importlib-metadata->datasets) (3.7.0)\n",
      "Requirement already satisfied: pytz>=2017.3 in /home/neeharika/miniconda3/envs/nlp_class/lib/python3.7/site-packages (from pandas->datasets) (2021.3)\n"
     ]
    }
   ],
   "source": [
    "!pip install datasets scikit-learn matplotlib"
   ]
  },
  {
   "cell_type": "code",
   "execution_count": 2,
   "id": "1f676af5-8f62-446e-a5b1-865457db285e",
   "metadata": {},
   "outputs": [
    {
     "name": "stderr",
     "output_type": "stream",
     "text": [
      "Reusing dataset imdb (/home/neeharika/.cache/huggingface/datasets/imdb/plain_text/1.0.0/2fdd8b9bcadd6e7055e742a706876ba43f19faee861df134affd7a3f60fc38a1)\n"
     ]
    },
    {
     "data": {
      "application/vnd.jupyter.widget-view+json": {
       "model_id": "582dd1c4e0974198bfa4472a2fbffc6e",
       "version_major": 2,
       "version_minor": 0
      },
      "text/plain": [
       "  0%|          | 0/3 [00:00<?, ?it/s]"
      ]
     },
     "metadata": {},
     "output_type": "display_data"
    }
   ],
   "source": [
    "import datasets\n",
    "imdb = datasets.load_dataset(\"imdb\")"
   ]
  },
  {
   "cell_type": "code",
   "execution_count": 3,
   "id": "36eacf69-7519-4e0e-a5ba-ca219febf971",
   "metadata": {},
   "outputs": [
    {
     "data": {
      "text/plain": [
       "DatasetDict({\n",
       "    train: Dataset({\n",
       "        features: ['text', 'label'],\n",
       "        num_rows: 25000\n",
       "    })\n",
       "    test: Dataset({\n",
       "        features: ['text', 'label'],\n",
       "        num_rows: 25000\n",
       "    })\n",
       "    unsupervised: Dataset({\n",
       "        features: ['text', 'label'],\n",
       "        num_rows: 50000\n",
       "    })\n",
       "})"
      ]
     },
     "execution_count": 3,
     "metadata": {},
     "output_type": "execute_result"
    }
   ],
   "source": [
    "imdb\n"
   ]
  },
  {
   "cell_type": "code",
   "execution_count": 4,
   "id": "d79a619a-c17f-4ff0-b5a1-6ef69768a94d",
   "metadata": {},
   "outputs": [],
   "source": [
    "train_set = imdb[\"train\"]"
   ]
  },
  {
   "cell_type": "code",
   "execution_count": 5,
   "id": "49c30e16-1cea-4b1b-ae06-745651262733",
   "metadata": {},
   "outputs": [
    {
     "data": {
      "text/plain": [
       "{'text': 'I rented I AM CURIOUS-YELLOW from my video store because of all the controversy that surrounded it when it was first released in 1967. I also heard that at first it was seized by U.S. customs if it ever tried to enter this country, therefore being a fan of films considered \"controversial\" I really had to see this for myself.<br /><br />The plot is centered around a young Swedish drama student named Lena who wants to learn everything she can about life. In particular she wants to focus her attentions to making some sort of documentary on what the average Swede thought about certain political issues such as the Vietnam War and race issues in the United States. In between asking politicians and ordinary denizens of Stockholm about their opinions on politics, she has sex with her drama teacher, classmates, and married men.<br /><br />What kills me about I AM CURIOUS-YELLOW is that 40 years ago, this was considered pornographic. Really, the sex and nudity scenes are few and far between, even then it\\'s not shot like some cheaply made porno. While my countrymen mind find it shocking, in reality sex and nudity are a major staple in Swedish cinema. Even Ingmar Bergman, arguably their answer to good old boy John Ford, had sex scenes in his films.<br /><br />I do commend the filmmakers for the fact that any sex shown in the film is shown for artistic purposes rather than just to shock people and make money to be shown in pornographic theaters in America. I AM CURIOUS-YELLOW is a good film for anyone wanting to study the meat and potatoes (no pun intended) of Swedish cinema. But really, this film doesn\\'t have much of a plot.',\n",
       " 'label': 0}"
      ]
     },
     "execution_count": 5,
     "metadata": {},
     "output_type": "execute_result"
    }
   ],
   "source": [
    "train_set[0]\n"
   ]
  },
  {
   "cell_type": "code",
   "execution_count": 6,
   "id": "181de470-3fd5-4878-8d2c-7cf8cd572c99",
   "metadata": {},
   "outputs": [
    {
     "data": {
      "text/plain": [
       "{'text': 'The story centers around Barry McKenzie who must go to England if he wishes to claim his inheritance. Being about the grossest Aussie shearer ever to set foot outside this great Nation of ours there is something of a culture clash and much fun and games ensue. The songs of Barry McKenzie(Barry Crocker) are highlights.',\n",
       " 'label': 1}"
      ]
     },
     "execution_count": 6,
     "metadata": {},
     "output_type": "execute_result"
    }
   ],
   "source": [
    "train_set[24999]"
   ]
  },
  {
   "cell_type": "code",
   "execution_count": 7,
   "id": "0f6d730f-bee1-4f22-a024-8d875d13e31d",
   "metadata": {},
   "outputs": [
    {
     "name": "stdout",
     "output_type": "stream",
     "text": [
      "N positive:  12500\n",
      "N negative:  12500\n"
     ]
    },
    {
     "data": {
      "image/png": "[encoded data removed]",
      "text/plain": [
       "<Figure size 432x288 with 1 Axes>"
      ]
     },
     "metadata": {
      "needs_background": "light"
     },
     "output_type": "display_data"
    }
   ],
   "source": [
    "import matplotlib.pyplot as plt\n",
    "n_positive_examples = sum(label == 1 for label in train_set[\"label\"])\n",
    "n_negative_examples = sum(label == 0 for label in train_set[\"label\"])\n",
    "\n",
    "plt.bar(x=[\"positive\", \"negative\"], height=[n_positive_examples, n_negative_examples])\n",
    "print(\"N positive: \", n_positive_examples)\n",
    "print(\"N negative: \", n_negative_examples)"
   ]
  },
  {
   "cell_type": "code",
   "execution_count": 8,
   "id": "463848e7-8a76-4887-b4f0-0f349dbd2abd",
   "metadata": {},
   "outputs": [
    {
     "name": "stdout",
     "output_type": "stream",
     "text": [
      "N positive:  12500\n",
      "N negative:  12500\n"
     ]
    },
    {
     "data": {
      "image/png": "[encoded data removed]",
      "text/plain": [
       "<Figure size 432x288 with 1 Axes>"
      ]
     },
     "metadata": {
      "needs_background": "light"
     },
     "output_type": "display_data"
    }
   ],
   "source": [
    "test_set = imdb[\"test\"]\n",
    "n_positive_examples = sum(label == 1 for label in test_set[\"label\"])\n",
    "n_negative_examples = sum(label == 0 for label in test_set[\"label\"])\n",
    "\n",
    "plt.bar(x=[\"positive\", \"negative\"], height=[n_positive_examples, n_negative_examples])\n",
    "print(\"N positive: \", n_positive_examples)\n",
    "print(\"N negative: \", n_negative_examples)"
   ]
  },
  {
   "cell_type": "code",
   "execution_count": 9,
   "id": "72a5dadc-45f7-4a38-a039-b1c595eda63d",
   "metadata": {},
   "outputs": [
    {
     "data": {
      "image/png": "[encoded data removed]",
      "text/plain": [
       "<Figure size 720x360 with 1 Axes>"
      ]
     },
     "metadata": {
      "needs_background": "light"
     },
     "output_type": "display_data"
    }
   ],
   "source": [
    "n_words_train = [len(text.split(\" \")) for text in train_set[\"text\"]]\n",
    "n_words_test = [len(text.split(\" \")) for text in test_set[\"text\"]]\n",
    "\n",
    "plt.figure(figsize=(10, 5))\n",
    "plt.hist(n_words_train, bins=30, label=\"train\")\n",
    "plt.hist(n_words_test, bins=30, label=\"test\");"
   ]
  },
  {
   "cell_type": "code",
   "execution_count": 10,
   "id": "fbd28237-b171-4484-a158-aae1f81be3dc",
   "metadata": {},
   "outputs": [
    {
     "data": {
      "text/plain": [
       "CountVectorizer()"
      ]
     },
     "execution_count": 10,
     "metadata": {},
     "output_type": "execute_result"
    }
   ],
   "source": [
    "from sklearn.feature_extraction.text import CountVectorizer\n",
    "\n",
    "count_vectorizer = CountVectorizer()\n",
    "count_vectorizer"
   ]
  },
  {
   "cell_type": "code",
   "execution_count": 11,
   "id": "95398dab-7bcc-43c9-8e80-736ff442851a",
   "metadata": {},
   "outputs": [
    {
     "data": {
      "text/plain": [
       "{'this': 4, 'is': 1, 'small': 2, 'text': 3, 'another': 0}"
      ]
     },
     "execution_count": 11,
     "metadata": {},
     "output_type": "execute_result"
    }
   ],
   "source": [
    "toy_texts = [\"this is a small text\", \"this is another small text\"]\n",
    "\n",
    "count_vectorizer = count_vectorizer.fit(toy_texts)\n",
    "count_vectorizer.vocabulary_"
   ]
  },
  {
   "cell_type": "code",
   "execution_count": 12,
   "id": "e2005281-416c-43de-b1f3-88bdc38cff8c",
   "metadata": {},
   "outputs": [
    {
     "data": {
      "text/plain": [
       "matrix([[0, 0, 0, 1, 0]])"
      ]
     },
     "execution_count": 12,
     "metadata": {},
     "output_type": "execute_result"
    }
   ],
   "source": [
    "count_vectorizer.transform([\"text\"]).todense()"
   ]
  },
  {
   "cell_type": "code",
   "execution_count": 13,
   "id": "faee3bb4-4622-4836-b191-5b89b35fedc9",
   "metadata": {},
   "outputs": [
    {
     "data": {
      "text/plain": [
       "matrix([[0, 0, 0, 2, 0]])"
      ]
     },
     "execution_count": 13,
     "metadata": {},
     "output_type": "execute_result"
    }
   ],
   "source": [
    "count_vectorizer.transform([\"text text\"]).todense()"
   ]
  },
  {
   "cell_type": "code",
   "execution_count": 14,
   "id": "e1a50c92-1953-43e9-91b3-2568070832c4",
   "metadata": {},
   "outputs": [
    {
     "data": {
      "text/plain": [
       "{'this': 3, 'is': 1, 'big': 0, 'text': 2}"
      ]
     },
     "execution_count": 14,
     "metadata": {},
     "output_type": "execute_result"
    }
   ],
   "source": [
    "# vectorizing a text with a OOV word\n",
    "# ignores the new words\n",
    "OOV = [\"this is a big text\"]\n",
    "count_vectorizer = count_vectorizer.fit(OOV)\n",
    "count_vectorizer.vocabulary_"
   ]
  },
  {
   "cell_type": "code",
   "execution_count": 15,
   "id": "903e29fb-7fb2-4dab-845c-3e0cdd8f38f5",
   "metadata": {},
   "outputs": [],
   "source": [
    "# vectorizing a text that only has OOV words\n",
    "OOV = [\"all the words are new\"]\n",
    "count_vectorizer = count_vectorizer.fit(OOV)\n",
    "count_vectorizer.vocabulary"
   ]
  },
  {
   "cell_type": "code",
   "execution_count": 16,
   "id": "dfe85db7-a3e4-4492-821c-b3dbf09a934c",
   "metadata": {},
   "outputs": [
    {
     "data": {
      "text/plain": [
       "{'this': 4, 'is': 1, 'small': 2, 'text': 3, 'another': 0}"
      ]
     },
     "execution_count": 16,
     "metadata": {},
     "output_type": "execute_result"
    }
   ],
   "source": [
    "from sklearn.feature_extraction.text import TfidfVectorizer\n",
    "\n",
    "tfidf_vectorizer = TfidfVectorizer()\n",
    "tfidf_vectorizer = tfidf_vectorizer.fit(toy_texts)\n",
    "tfidf_vectorizer.vocabulary_"
   ]
  },
  {
   "cell_type": "code",
   "execution_count": 17,
   "id": "ec469086-b627-476d-9587-ffd662a48042",
   "metadata": {},
   "outputs": [
    {
     "data": {
      "text/plain": [
       "matrix([[0., 0., 0., 1., 0.]])"
      ]
     },
     "execution_count": 17,
     "metadata": {},
     "output_type": "execute_result"
    }
   ],
   "source": [
    "tfidf_vectorizer.transform([\"text\"]).todense()"
   ]
  },
  {
   "cell_type": "code",
   "execution_count": 18,
   "id": "ada7f256-c538-4df8-a6ba-5a4b5ef8899c",
   "metadata": {},
   "outputs": [
    {
     "name": "stdout",
     "output_type": "stream",
     "text": [
      "Count Vector: [[0 0 0 0 0]]\n",
      "Count Vector: [[0.81480247 0.         0.         0.57973867 0.        ]]\n"
     ]
    }
   ],
   "source": [
    "print(\"Count Vector:\", count_vectorizer.transform([\"another text\"]).todense())\n",
    "print(\"Count Vector:\", tfidf_vectorizer.transform([\"another text\"]).todense())"
   ]
  },
  {
   "cell_type": "code",
   "execution_count": 19,
   "id": "6c5bab1d-6f31-433d-b1b8-215e4c2cc10d",
   "metadata": {},
   "outputs": [
    {
     "data": {
      "text/plain": [
       "74849"
      ]
     },
     "execution_count": 19,
     "metadata": {},
     "output_type": "execute_result"
    }
   ],
   "source": [
    "vectorizer = CountVectorizer()\n",
    "vectorizer = vectorizer.fit(train_set[\"text\"])\n",
    "len(vectorizer.vocabulary_)"
   ]
  },
  {
   "cell_type": "code",
   "execution_count": 20,
   "id": "614b3ba0-693a-4c00-af8c-9d5ff3d9a70e",
   "metadata": {},
   "outputs": [
    {
     "data": {
      "text/plain": [
       "(25000, 74849)"
      ]
     },
     "execution_count": 20,
     "metadata": {},
     "output_type": "execute_result"
    }
   ],
   "source": [
    "vectorized_texts = vectorizer.transform(train_set[\"text\"])\n",
    "vectorized_texts.shape"
   ]
  },
  {
   "cell_type": "code",
   "execution_count": 21,
   "id": "c950c0d3-e2fc-4d72-be59-52bf11fc14e6",
   "metadata": {},
   "outputs": [
    {
     "name": "stderr",
     "output_type": "stream",
     "text": [
      "/home/neeharika/miniconda3/envs/nlp_class/lib/python3.7/site-packages/sklearn/linear_model/_logistic.py:818: ConvergenceWarning: lbfgs failed to converge (status=1):\n",
      "STOP: TOTAL NO. of ITERATIONS REACHED LIMIT.\n",
      "\n",
      "Increase the number of iterations (max_iter) or scale the data as shown in:\n",
      "    https://scikit-learn.org/stable/modules/preprocessing.html\n",
      "Please also refer to the documentation for alternative solver options:\n",
      "    https://scikit-learn.org/stable/modules/linear_model.html#logistic-regression\n",
      "  extra_warning_msg=_LOGISTIC_SOLVER_CONVERGENCE_MSG,\n"
     ]
    }
   ],
   "source": [
    "from sklearn.linear_model import LogisticRegression\n",
    "\n",
    "model = LogisticRegression()\n",
    "model = model.fit(vectorized_texts, train_set[\"label\"])"
   ]
  },
  {
   "cell_type": "code",
   "execution_count": 22,
   "id": "8744411e-004d-4fb4-9805-086915bac994",
   "metadata": {},
   "outputs": [],
   "source": [
    "def predict_sentiment(text, model, vectorizer):\n",
    "    text_vector = vectorizer.transform([text])\n",
    "    prediction = model.predict(text_vector)[0]\n",
    "    if prediction == 1:\n",
    "        return \"Positive\"\n",
    "    return \"Negetive\""
   ]
  },
  {
   "cell_type": "code",
   "execution_count": 23,
   "id": "831c13c4-ea6d-43ee-ad15-e4ee00b172fe",
   "metadata": {},
   "outputs": [
    {
     "data": {
      "text/plain": [
       "'Positive'"
      ]
     },
     "execution_count": 23,
     "metadata": {},
     "output_type": "execute_result"
    }
   ],
   "source": [
    "predict_sentiment(\"this is an amazing movie!\", model, vectorizer)"
   ]
  },
  {
   "cell_type": "code",
   "execution_count": 24,
   "id": "69d29c17-9922-4f90-a692-e6cab73a5931",
   "metadata": {},
   "outputs": [
    {
     "data": {
      "text/plain": [
       "'Negetive'"
      ]
     },
     "execution_count": 24,
     "metadata": {},
     "output_type": "execute_result"
    }
   ],
   "source": [
    "predict_sentiment(\"this is a horrible movie!\", model, vectorizer)"
   ]
  },
  {
   "cell_type": "code",
   "execution_count": 25,
   "id": "db59d5d0-5efa-49a7-bbc5-b28f02db44b5",
   "metadata": {},
   "outputs": [
    {
     "data": {
      "text/plain": [
       "'Positive'"
      ]
     },
     "execution_count": 25,
     "metadata": {},
     "output_type": "execute_result"
    }
   ],
   "source": [
    "predict_sentiment(\"this is not a good movie!\", model, vectorizer)"
   ]
  },
  {
   "cell_type": "code",
   "execution_count": 26,
   "id": "141facca-d70b-4a25-b3f9-a2be957bcc4d",
   "metadata": {},
   "outputs": [
    {
     "data": {
      "text/plain": [
       "'Negetive'"
      ]
     },
     "execution_count": 26,
     "metadata": {},
     "output_type": "execute_result"
    }
   ],
   "source": [
    "predict_sentiment(\"this is not a horrible movie!\", model, vectorizer)"
   ]
  },
  {
   "cell_type": "code",
   "execution_count": 27,
   "id": "1ae13570-36a7-424d-a901-f246c7794ce7",
   "metadata": {},
   "outputs": [
    {
     "name": "stdout",
     "output_type": "stream",
     "text": [
      "Test accuracy is  0.86408\n"
     ]
    }
   ],
   "source": [
    "from sklearn.metrics import accuracy_score\n",
    "\n",
    "vectorized_texts_test = vectorizer.transform(test_set[\"text\"])\n",
    "test_set_predictions = model.predict(vectorized_texts_test)\n",
    "\n",
    "print(\"Test accuracy is \", accuracy_score(y_true=test_set[\"label\"], y_pred=test_set_predictions))"
   ]
  },
  {
   "cell_type": "code",
   "execution_count": 28,
   "id": "0b505a93-566c-4254-86db-21ee21b2283d",
   "metadata": {},
   "outputs": [],
   "source": [
    "#vectorizer = TfidfVectorizer(stop_words='english',ngram_range=(2, 2), min_df=1,sublinear_tf=True)\n",
    "vectorizer = TfidfVectorizer(ngram_range=(1, 2),min_df=5,sublinear_tf=True)\n",
    "X = vectorizer.fit_transform(train_set[\"text\"])\n",
    "y = train_set[\"label\"]\n",
    "vectorized_texts = vectorizer.transform(train_set[\"text\"])"
   ]
  },
  {
   "cell_type": "code",
   "execution_count": 29,
   "id": "2a6adf15-6d44-4203-9bfc-e7935518c5f7",
   "metadata": {},
   "outputs": [
    {
     "name": "stderr",
     "output_type": "stream",
     "text": [
      "/home/neeharika/miniconda3/envs/nlp_class/lib/python3.7/site-packages/sklearn/linear_model/_sag.py:354: ConvergenceWarning: The max_iter was reached which means the coef_ did not converge\n",
      "  ConvergenceWarning,\n"
     ]
    }
   ],
   "source": [
    "#both solver = \"saga\" and solver = \"sag\" are giving accuracy more than 90%\n",
    "model = LogisticRegression(penalty='none',solver='saga')\n",
    "#model = LogisticRegression(penalty=\"elasticnet\",solver='saga',multi_class=\"ovr\",fit_intercept=True,class_weight=\"balanced\",random_state = 0, l1_ratio = 0.1)\n",
    "model = model.fit(X, y)"
   ]
  },
  {
   "cell_type": "code",
   "execution_count": 30,
   "id": "f2889aa8-82de-4aca-b644-c0e7dd625e76",
   "metadata": {},
   "outputs": [
    {
     "data": {
      "text/plain": [
       "0.9046"
      ]
     },
     "execution_count": 30,
     "metadata": {},
     "output_type": "execute_result"
    }
   ],
   "source": [
    "X_test = vectorizer.transform(test_set[\"text\"])\n",
    "y_test = test_set[\"label\"]\n",
    "model.score(X_test, y_test)  # computes accuracy"
   ]
  },
  {
   "cell_type": "code",
   "execution_count": null,
   "id": "f9a79d5e-f20c-446b-87f7-46926873203c",
   "metadata": {},
   "outputs": [],
   "source": []
  }
 ],
 "metadata": {
  "kernelspec": {
   "display_name": "nlp_class",
   "language": "python",
   "name": "nlp_class"
  },
  "language_info": {
   "codemirror_mode": {
    "name": "ipython",
    "version": 3
   },
   "file_extension": ".py",
   "mimetype": "text/x-python",
   "name": "python",
   "nbconvert_exporter": "python",
   "pygments_lexer": "ipython3",
   "version": "3.7.11"
  }
 },
 "nbformat": 4,
 "nbformat_minor": 5
}
